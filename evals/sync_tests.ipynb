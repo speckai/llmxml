{
 "cells": [
  {
   "cell_type": "code",
   "execution_count": 2,
   "metadata": {},
   "outputs": [],
   "source": [
    "import sys\n",
    "import os\n",
    "sys.path.append(os.path.dirname(os.getcwd()))"
   ]
  },
  {
   "cell_type": "markdown",
   "metadata": {},
   "source": [
    "# OpenAI Example"
   ]
  },
  {
   "cell_type": "code",
   "execution_count": 4,
   "metadata": {},
   "outputs": [
    {
     "name": "stdout",
     "output_type": "stream",
     "text": [
      "name='John Doe' age=28\n"
     ]
    }
   ],
   "source": [
    "import instructor\n",
    "from pydantic import BaseModel, Field\n",
    "from openai import OpenAI\n",
    "import os\n",
    "import llmxml\n",
    "from dotenv import load_dotenv\n",
    "load_dotenv()\n",
    "\n",
    "# Define your desired output structure\n",
    "class ExtractUser(BaseModel):\n",
    "    name: str = Field(..., description=\"The name of the user\")\n",
    "    age: int = Field(..., description=\"The age of the user\")\n",
    "\n",
    "# Patch the OpenAI client\n",
    "client= llmxml.from_openai(OpenAI(api_key=os.getenv(\"OPENAI_API_KEY\")))\n",
    "\n",
    "# Extract structured data from natural language\n",
    "res = client.chat.completions.create(\n",
    "    model=\"gpt-4o-mini\",\n",
    "    response_model=ExtractUser,\n",
    "    messages=[{\"role\": \"user\", \"content\": \"give a random name and age in xml format\"}],\n",
    ")\n",
    "print(res)"
   ]
  },
  {
   "cell_type": "markdown",
   "metadata": {},
   "source": [
    "# Anthropic Example"
   ]
  },
  {
   "cell_type": "code",
   "execution_count": 5,
   "metadata": {},
   "outputs": [
    {
     "name": "stdout",
     "output_type": "stream",
     "text": [
      "{\n",
      "  \"name\": \"John Doe\",\n",
      "  \"age\": 35,\n",
      "  \"properties\": [\n",
      "    {\n",
      "      \"key\": \"occupation\",\n",
      "      \"value\": \"Software Engineer\"\n",
      "    },\n",
      "    {\n",
      "      \"key\": \"hobbies\",\n",
      "      \"value\": \"reading, hiking, photography\"\n",
      "    },\n",
      "    {\n",
      "      \"key\": \"location\",\n",
      "      \"value\": \"San Francisco, CA\"\n",
      "    }\n",
      "  ]\n",
      "}\n"
     ]
    }
   ],
   "source": [
    "from pydantic import BaseModel\n",
    "import os\n",
    "import anthropic\n",
    "import instructor\n",
    "import dotenv\n",
    "import llmxml\n",
    "\n",
    "dotenv.load_dotenv()\n",
    "\n",
    "# Patching the Anthropic client with the instructor for enhanced capabilities\n",
    "client = llmxml.from_anthropic(anthropic.Anthropic(api_key=os.getenv(\"ANTHROPIC_API_KEY\")))\n",
    "\n",
    "\n",
    "class Properties(BaseModel):\n",
    "    key: str\n",
    "    value: str\n",
    "\n",
    "\n",
    "class User(BaseModel):\n",
    "    name: str\n",
    "    age: int\n",
    "    properties: list[Properties]\n",
    "\n",
    "\n",
    "user = client.messages.create(\n",
    "    model=\"claude-3-haiku-20240307\",\n",
    "    max_tokens=1024,\n",
    "    messages=[\n",
    "        {\n",
    "            \"role\": \"user\",\n",
    "            \"content\": \"Create a user for a model with a name, age, and properties.\",\n",
    "        }\n",
    "    ],\n",
    "    response_model=User,\n",
    ")\n",
    "\n",
    "print(user.model_dump_json(indent=2))"
   ]
  },
  {
   "cell_type": "markdown",
   "metadata": {},
   "source": [
    "# Gemini Example"
   ]
  },
  {
   "cell_type": "code",
   "execution_count": 6,
   "metadata": {},
   "outputs": [
    {
     "name": "stdout",
     "output_type": "stream",
     "text": [
      "name='Jane Doe' age=30\n"
     ]
    }
   ],
   "source": [
    "import instructor\n",
    "from pydantic import BaseModel, Field\n",
    "from openai import OpenAI\n",
    "import os\n",
    "import llmxml\n",
    "from dotenv import load_dotenv\n",
    "load_dotenv()\n",
    "\n",
    "# Define your desired output structure\n",
    "class ExtractUser(BaseModel):\n",
    "    name: str = Field(..., description=\"The name of the user\")\n",
    "    age: int = Field(..., description=\"The age of the user\")\n",
    "\n",
    "client = OpenAI(api_key=os.getenv(\"GEMINI_API_KEY\"),\n",
    "    base_url=\"https://generativelanguage.googleapis.com/v1beta/openai/\"\n",
    ")\n",
    "\n",
    "# Patch the OpenAI client\n",
    "client_instructor = llmxml.from_openai(client)\n",
    "\n",
    "# Extract structured data from natural language\n",
    "res = client_instructor.chat.completions.create(\n",
    "    model=\"gemini-1.5-flash\",\n",
    "    response_model=ExtractUser,\n",
    "    messages=[{\"role\": \"user\", \"content\": \"give a random name and age in xml format\"}],\n",
    ")\n",
    "print(res)"
   ]
  }
 ],
 "metadata": {
  "kernelspec": {
   "display_name": ".venv",
   "language": "python",
   "name": "python3"
  },
  "language_info": {
   "codemirror_mode": {
    "name": "ipython",
    "version": 3
   },
   "file_extension": ".py",
   "mimetype": "text/x-python",
   "name": "python",
   "nbconvert_exporter": "python",
   "pygments_lexer": "ipython3",
   "version": "3.12.7"
  }
 },
 "nbformat": 4,
 "nbformat_minor": 2
}
