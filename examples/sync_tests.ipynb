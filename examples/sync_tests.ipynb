{
  "cells": [
    {
      "cell_type": "code",
      "execution_count": 7,
      "metadata": {},
      "outputs": [],
      "source": [
        "import sys\n",
        "import os\n",
        "sys.path.append(os.path.dirname(os.getcwd()))"
      ]
    },
    {
      "cell_type": "code",
      "execution_count": 1,
      "metadata": {},
      "outputs": [
        {
          "name": "stdout",
          "output_type": "stream",
          "text": [
            "name='John Doe' age=28\n"
          ]
        }
      ],
      "source": [
        "import instructor\n",
        "from pydantic import BaseModel, Field\n",
        "from openai import OpenAI\n",
        "import os\n",
        "import llmxml\n",
        "from dotenv import load_dotenv\n",
        "load_dotenv()\n",
        "\n",
        "# Define your desired output structure\n",
        "class ExtractUser(BaseModel):\n",
        "    name: str = Field(..., description=\"The name of the user\")\n",
        "    age: int = Field(..., description=\"The age of the user\")\n",
        "\n",
        "# Patch the OpenAI client\n",
        "client_instructor = llmxml.from_openai(OpenAI(api_key=os.getenv(\"OPENAI_API_KEY\")))\n",
        "\n",
        "# Extract structured data from natural language\n",
        "res = client_instructor.chat.completions.create(\n",
        "    model=\"gpt-4o-mini\",\n",
        "    response_model=ExtractUser,\n",
        "    messages=[{\"role\": \"user\", \"content\": \"give a random name and age in xml format\"}],\n",
        ")\n",
        "print(res)"
      ]
    }
  ],
  "metadata": {
    "kernelspec": {
      "display_name": ".venv",
      "language": "python",
      "name": "python3"
    },
    "language_info": {
      "codemirror_mode": {
        "name": "ipython",
        "version": 3
      },
      "file_extension": ".py",
      "mimetype": "text/x-python",
      "name": "python",
      "nbconvert_exporter": "python",
      "pygments_lexer": "ipython3",
      "version": "3.12.7"
    }
  },
  "nbformat": 4,
  "nbformat_minor": 2
}
